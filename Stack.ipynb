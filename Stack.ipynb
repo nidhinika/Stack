{
  "nbformat": 4,
  "nbformat_minor": 0,
  "metadata": {
    "colab": {
      "name": "Stack.ipynb",
      "provenance": []
    },
    "kernelspec": {
      "name": "python3",
      "display_name": "Python 3"
    }
  },
  "cells": [
    {
      "cell_type": "markdown",
      "metadata": {
        "id": "ktrnaVoVVJTM",
        "colab_type": "text"
      },
      "source": [
        "**STACK IMPLEMNTATION **"
      ]
    },
    {
      "cell_type": "markdown",
      "metadata": {
        "id": "yz_QZ-eEVgY7",
        "colab_type": "text"
      },
      "source": [
        "**Using list as stack**"
      ]
    },
    {
      "cell_type": "code",
      "metadata": {
        "id": "wOkbwCvbVVeK",
        "colab_type": "code",
        "colab": {}
      },
      "source": [
        "s=[]\n",
        "s.append(7)\n",
        "s.append(8)\n",
        "s.append(9)\n",
        "s.append(6)\n"
      ],
      "execution_count": 110,
      "outputs": []
    },
    {
      "cell_type": "code",
      "metadata": {
        "id": "VeBKAPs4V6Xu",
        "colab_type": "code",
        "colab": {
          "base_uri": "https://localhost:8080/",
          "height": 35
        },
        "outputId": "c7ac4e04-1350-4374-de07-40a6e3d0e50f"
      },
      "source": [
        "s.pop()"
      ],
      "execution_count": 10,
      "outputs": [
        {
          "output_type": "execute_result",
          "data": {
            "text/plain": [
              "6"
            ]
          },
          "metadata": {
            "tags": []
          },
          "execution_count": 10
        }
      ]
    },
    {
      "cell_type": "code",
      "metadata": {
        "id": "QShYAyU5WFJ9",
        "colab_type": "code",
        "colab": {
          "base_uri": "https://localhost:8080/",
          "height": 35
        },
        "outputId": "625f7714-0d5e-457f-9bcc-e63f89ad77b1"
      },
      "source": [
        "s.pop()"
      ],
      "execution_count": 11,
      "outputs": [
        {
          "output_type": "execute_result",
          "data": {
            "text/plain": [
              "9"
            ]
          },
          "metadata": {
            "tags": []
          },
          "execution_count": 11
        }
      ]
    },
    {
      "cell_type": "code",
      "metadata": {
        "id": "mCsYfTFQWK4Z",
        "colab_type": "code",
        "colab": {
          "base_uri": "https://localhost:8080/",
          "height": 35
        },
        "outputId": "de75d5fe-a947-447a-df09-22d4de657b64"
      },
      "source": [
        "s.pop()"
      ],
      "execution_count": 12,
      "outputs": [
        {
          "output_type": "execute_result",
          "data": {
            "text/plain": [
              "8"
            ]
          },
          "metadata": {
            "tags": []
          },
          "execution_count": 12
        }
      ]
    },
    {
      "cell_type": "code",
      "metadata": {
        "id": "ER-rzqeUWY2m",
        "colab_type": "code",
        "colab": {
          "base_uri": "https://localhost:8080/",
          "height": 35
        },
        "outputId": "0efb8b02-0473-4567-8166-a2129f90087b"
      },
      "source": [
        "s.pop()"
      ],
      "execution_count": 13,
      "outputs": [
        {
          "output_type": "execute_result",
          "data": {
            "text/plain": [
              "7"
            ]
          },
          "metadata": {
            "tags": []
          },
          "execution_count": 13
        }
      ]
    },
    {
      "cell_type": "code",
      "metadata": {
        "id": "J4XJGFv9WciT",
        "colab_type": "code",
        "colab": {
          "base_uri": "https://localhost:8080/",
          "height": 166
        },
        "outputId": "c28d1bcb-92d1-4fe2-8fde-b4c93fa400c7"
      },
      "source": [
        "s.pop() #empty list"
      ],
      "execution_count": 14,
      "outputs": [
        {
          "output_type": "error",
          "ename": "IndexError",
          "evalue": "ignored",
          "traceback": [
            "\u001b[0;31m---------------------------------------------------------------------------\u001b[0m",
            "\u001b[0;31mIndexError\u001b[0m                                Traceback (most recent call last)",
            "\u001b[0;32m<ipython-input-14-28c7bf1548e1>\u001b[0m in \u001b[0;36m<module>\u001b[0;34m()\u001b[0m\n\u001b[0;32m----> 1\u001b[0;31m \u001b[0ms\u001b[0m\u001b[0;34m.\u001b[0m\u001b[0mpop\u001b[0m\u001b[0;34m(\u001b[0m\u001b[0;34m)\u001b[0m \u001b[0;31m#empty list\u001b[0m\u001b[0;34m\u001b[0m\u001b[0;34m\u001b[0m\u001b[0m\n\u001b[0m",
            "\u001b[0;31mIndexError\u001b[0m: pop from empty list"
          ]
        }
      ]
    },
    {
      "cell_type": "code",
      "metadata": {
        "id": "Got6Ncl3Wgzu",
        "colab_type": "code",
        "colab": {
          "base_uri": "https://localhost:8080/",
          "height": 35
        },
        "outputId": "72e81ed1-8726-4abb-b7e3-307651a61cab"
      },
      "source": [
        "s "
      ],
      "execution_count": 15,
      "outputs": [
        {
          "output_type": "execute_result",
          "data": {
            "text/plain": [
              "[]"
            ]
          },
          "metadata": {
            "tags": []
          },
          "execution_count": 15
        }
      ]
    },
    {
      "cell_type": "code",
      "metadata": {
        "id": "TYz8kGDUW-m-",
        "colab_type": "code",
        "colab": {
          "base_uri": "https://localhost:8080/",
          "height": 166
        },
        "outputId": "95a75495-a713-4df4-893b-d4c9381f8213"
      },
      "source": [
        "s[-1]"
      ],
      "execution_count": 16,
      "outputs": [
        {
          "output_type": "error",
          "ename": "IndexError",
          "evalue": "ignored",
          "traceback": [
            "\u001b[0;31m---------------------------------------------------------------------------\u001b[0m",
            "\u001b[0;31mIndexError\u001b[0m                                Traceback (most recent call last)",
            "\u001b[0;32m<ipython-input-16-76c3dce40054>\u001b[0m in \u001b[0;36m<module>\u001b[0;34m()\u001b[0m\n\u001b[0;32m----> 1\u001b[0;31m \u001b[0ms\u001b[0m\u001b[0;34m[\u001b[0m\u001b[0;34m-\u001b[0m\u001b[0;36m1\u001b[0m\u001b[0;34m]\u001b[0m\u001b[0;34m\u001b[0m\u001b[0;34m\u001b[0m\u001b[0m\n\u001b[0m",
            "\u001b[0;31mIndexError\u001b[0m: list index out of range"
          ]
        }
      ]
    },
    {
      "cell_type": "markdown",
      "metadata": {
        "id": "kQhHN5VlWyab",
        "colab_type": "text"
      },
      "source": [
        "The issue with using a list as a stack is that list uses dymanic array internally and when it reaches its capacity it will reallocate a big chunk of memory somewhere else in memory area and copy all the elements."
      ]
    },
    {
      "cell_type": "markdown",
      "metadata": {
        "id": "g_-DyMHrXUL4",
        "colab_type": "text"
      },
      "source": [
        "**Using deque as a stack**"
      ]
    },
    {
      "cell_type": "code",
      "metadata": {
        "id": "2Bzr_NwtXD9F",
        "colab_type": "code",
        "colab": {}
      },
      "source": [
        "from collections import deque\n",
        "stack=deque()"
      ],
      "execution_count": 111,
      "outputs": []
    },
    {
      "cell_type": "code",
      "metadata": {
        "id": "DZ1y-_VHXrc5",
        "colab_type": "code",
        "colab": {
          "base_uri": "https://localhost:8080/",
          "height": 919
        },
        "outputId": "4ba6489d-fefd-4de2-8518-c2860785b6cf"
      },
      "source": [
        "dir(stack)"
      ],
      "execution_count": 18,
      "outputs": [
        {
          "output_type": "execute_result",
          "data": {
            "text/plain": [
              "['__add__',\n",
              " '__bool__',\n",
              " '__class__',\n",
              " '__contains__',\n",
              " '__copy__',\n",
              " '__delattr__',\n",
              " '__delitem__',\n",
              " '__dir__',\n",
              " '__doc__',\n",
              " '__eq__',\n",
              " '__format__',\n",
              " '__ge__',\n",
              " '__getattribute__',\n",
              " '__getitem__',\n",
              " '__gt__',\n",
              " '__hash__',\n",
              " '__iadd__',\n",
              " '__imul__',\n",
              " '__init__',\n",
              " '__init_subclass__',\n",
              " '__iter__',\n",
              " '__le__',\n",
              " '__len__',\n",
              " '__lt__',\n",
              " '__mul__',\n",
              " '__ne__',\n",
              " '__new__',\n",
              " '__reduce__',\n",
              " '__reduce_ex__',\n",
              " '__repr__',\n",
              " '__reversed__',\n",
              " '__rmul__',\n",
              " '__setattr__',\n",
              " '__setitem__',\n",
              " '__sizeof__',\n",
              " '__str__',\n",
              " '__subclasshook__',\n",
              " 'append',\n",
              " 'appendleft',\n",
              " 'clear',\n",
              " 'copy',\n",
              " 'count',\n",
              " 'extend',\n",
              " 'extendleft',\n",
              " 'index',\n",
              " 'insert',\n",
              " 'maxlen',\n",
              " 'pop',\n",
              " 'popleft',\n",
              " 'remove',\n",
              " 'reverse',\n",
              " 'rotate']"
            ]
          },
          "metadata": {
            "tags": []
          },
          "execution_count": 18
        }
      ]
    },
    {
      "cell_type": "code",
      "metadata": {
        "id": "QABwpMryYVMP",
        "colab_type": "code",
        "colab": {}
      },
      "source": [
        "stack.append(9)\n",
        "stack.append(10)\n",
        "stack.append(11)\n",
        "stack.append(12)\n",
        "stack.append(13)\n",
        "stack.append(14)"
      ],
      "execution_count": 112,
      "outputs": []
    },
    {
      "cell_type": "code",
      "metadata": {
        "id": "eWTNwHfPZQbp",
        "colab_type": "code",
        "colab": {
          "base_uri": "https://localhost:8080/",
          "height": 35
        },
        "outputId": "12b58697-b0a7-46c3-cbbe-8161bd29121a"
      },
      "source": [
        "stack"
      ],
      "execution_count": 113,
      "outputs": [
        {
          "output_type": "execute_result",
          "data": {
            "text/plain": [
              "deque([9, 10, 11, 12, 13, 14])"
            ]
          },
          "metadata": {
            "tags": []
          },
          "execution_count": 113
        }
      ]
    },
    {
      "cell_type": "code",
      "metadata": {
        "id": "Ko1LpoVzZTPB",
        "colab_type": "code",
        "colab": {
          "base_uri": "https://localhost:8080/",
          "height": 35
        },
        "outputId": "97cbec46-7f46-4b06-f8c0-38c77f074b89"
      },
      "source": [
        "stack.pop()"
      ],
      "execution_count": 21,
      "outputs": [
        {
          "output_type": "execute_result",
          "data": {
            "text/plain": [
              "14"
            ]
          },
          "metadata": {
            "tags": []
          },
          "execution_count": 21
        }
      ]
    },
    {
      "cell_type": "code",
      "metadata": {
        "id": "JujPPZH7Zl6J",
        "colab_type": "code",
        "colab": {
          "base_uri": "https://localhost:8080/",
          "height": 35
        },
        "outputId": "3c82b630-73b4-4d7a-c811-a3e5dab977d1"
      },
      "source": [
        "stack.pop()"
      ],
      "execution_count": 22,
      "outputs": [
        {
          "output_type": "execute_result",
          "data": {
            "text/plain": [
              "13"
            ]
          },
          "metadata": {
            "tags": []
          },
          "execution_count": 22
        }
      ]
    },
    {
      "cell_type": "code",
      "metadata": {
        "id": "GbJu0frMZodA",
        "colab_type": "code",
        "colab": {
          "base_uri": "https://localhost:8080/",
          "height": 35
        },
        "outputId": "a4a18764-7d3a-4499-8770-f29a23e78712"
      },
      "source": [
        "stack.pop()"
      ],
      "execution_count": 23,
      "outputs": [
        {
          "output_type": "execute_result",
          "data": {
            "text/plain": [
              "12"
            ]
          },
          "metadata": {
            "tags": []
          },
          "execution_count": 23
        }
      ]
    },
    {
      "cell_type": "code",
      "metadata": {
        "id": "6Udz8cX4ZrJB",
        "colab_type": "code",
        "colab": {
          "base_uri": "https://localhost:8080/",
          "height": 35
        },
        "outputId": "fd4f8b09-e3c7-4469-843c-73ed9b948c53"
      },
      "source": [
        "stack.pop()"
      ],
      "execution_count": 24,
      "outputs": [
        {
          "output_type": "execute_result",
          "data": {
            "text/plain": [
              "11"
            ]
          },
          "metadata": {
            "tags": []
          },
          "execution_count": 24
        }
      ]
    },
    {
      "cell_type": "code",
      "metadata": {
        "id": "5WIE7kvIZuaN",
        "colab_type": "code",
        "colab": {
          "base_uri": "https://localhost:8080/",
          "height": 35
        },
        "outputId": "4da72c17-33b6-48ec-9d24-c7857cfaf593"
      },
      "source": [
        "stack.pop()"
      ],
      "execution_count": 25,
      "outputs": [
        {
          "output_type": "execute_result",
          "data": {
            "text/plain": [
              "10"
            ]
          },
          "metadata": {
            "tags": []
          },
          "execution_count": 25
        }
      ]
    },
    {
      "cell_type": "code",
      "metadata": {
        "id": "20KOsqL5Zxp5",
        "colab_type": "code",
        "colab": {
          "base_uri": "https://localhost:8080/",
          "height": 35
        },
        "outputId": "b617b166-9b3b-4663-87da-5b198690e0b7"
      },
      "source": [
        "stack.pop()"
      ],
      "execution_count": 26,
      "outputs": [
        {
          "output_type": "execute_result",
          "data": {
            "text/plain": [
              "9"
            ]
          },
          "metadata": {
            "tags": []
          },
          "execution_count": 26
        }
      ]
    },
    {
      "cell_type": "code",
      "metadata": {
        "id": "1unjjvKgZ2G4",
        "colab_type": "code",
        "colab": {
          "base_uri": "https://localhost:8080/",
          "height": 166
        },
        "outputId": "91ed450c-23a3-4f1f-8bfc-9d6ce0d272ff"
      },
      "source": [
        "stack.pop()"
      ],
      "execution_count": 27,
      "outputs": [
        {
          "output_type": "error",
          "ename": "IndexError",
          "evalue": "ignored",
          "traceback": [
            "\u001b[0;31m---------------------------------------------------------------------------\u001b[0m",
            "\u001b[0;31mIndexError\u001b[0m                                Traceback (most recent call last)",
            "\u001b[0;32m<ipython-input-27-415460d3b717>\u001b[0m in \u001b[0;36m<module>\u001b[0;34m()\u001b[0m\n\u001b[0;32m----> 1\u001b[0;31m \u001b[0mstack\u001b[0m\u001b[0;34m.\u001b[0m\u001b[0mpop\u001b[0m\u001b[0;34m(\u001b[0m\u001b[0;34m)\u001b[0m\u001b[0;34m\u001b[0m\u001b[0;34m\u001b[0m\u001b[0m\n\u001b[0m",
            "\u001b[0;31mIndexError\u001b[0m: pop from an empty deque"
          ]
        }
      ]
    },
    {
      "cell_type": "code",
      "metadata": {
        "id": "_jiNMLGFZ5ct",
        "colab_type": "code",
        "colab": {
          "base_uri": "https://localhost:8080/",
          "height": 35
        },
        "outputId": "20187b0d-66e4-42d0-f325-a37e98c4126d"
      },
      "source": [
        "stack"
      ],
      "execution_count": 28,
      "outputs": [
        {
          "output_type": "execute_result",
          "data": {
            "text/plain": [
              "deque([])"
            ]
          },
          "metadata": {
            "tags": []
          },
          "execution_count": 28
        }
      ]
    },
    {
      "cell_type": "markdown",
      "metadata": {
        "id": "aS_i7rEdaIDX",
        "colab_type": "text"
      },
      "source": [
        "**Implement Stack class using a deque**"
      ]
    },
    {
      "cell_type": "code",
      "metadata": {
        "id": "6XG3VMu_Z7pE",
        "colab_type": "code",
        "colab": {}
      },
      "source": [
        "class stack:\n",
        "  def __init__(self):\n",
        "    self.container=deque()\n",
        "  def push(self,val):\n",
        "    self.container.append(val)\n",
        "  def pop(self):\n",
        "    return self.container.pop()\n",
        "  def peek(self):\n",
        "   return self.container[-1]\n",
        "  def is_empty(self):\n",
        "    return len(self.container)==0\n",
        "  def size(self):\n",
        "    return len(self.container)\n",
        "  def is_balanced(self):\n",
        "    return self.container[0]==\"[\" and self.container[-1]=\"]\"\n",
        "    return self.container[]\n",
        "        \n",
        "  \n",
        "\n",
        "  \n",
        "\n",
        "\n",
        "  "
      ],
      "execution_count": 115,
      "outputs": []
    },
    {
      "cell_type": "code",
      "metadata": {
        "id": "GBOz6kQybt_8",
        "colab_type": "code",
        "colab": {}
      },
      "source": [
        "s=stack()"
      ],
      "execution_count": 53,
      "outputs": []
    },
    {
      "cell_type": "code",
      "metadata": {
        "id": "QVXZLbWZb0_W",
        "colab_type": "code",
        "colab": {}
      },
      "source": [
        "s.push(5)"
      ],
      "execution_count": 55,
      "outputs": []
    },
    {
      "cell_type": "code",
      "metadata": {
        "id": "lQGqhi8tb5Kp",
        "colab_type": "code",
        "colab": {
          "base_uri": "https://localhost:8080/",
          "height": 35
        },
        "outputId": "a614bc73-896d-4e4d-8653-48779cac22ef"
      },
      "source": [
        "s.is_empty()"
      ],
      "execution_count": 56,
      "outputs": [
        {
          "output_type": "execute_result",
          "data": {
            "text/plain": [
              "False"
            ]
          },
          "metadata": {
            "tags": []
          },
          "execution_count": 56
        }
      ]
    },
    {
      "cell_type": "code",
      "metadata": {
        "id": "4pwCic0fcbYR",
        "colab_type": "code",
        "colab": {}
      },
      "source": [
        "s.pop()"
      ],
      "execution_count": 57,
      "outputs": []
    },
    {
      "cell_type": "code",
      "metadata": {
        "id": "KqNsrkYmdQsK",
        "colab_type": "code",
        "colab": {}
      },
      "source": [
        "s.push(9)\n",
        "s.push(34)\n",
        "s.push(78)\n",
        "s.push(12)"
      ],
      "execution_count": 58,
      "outputs": []
    },
    {
      "cell_type": "code",
      "metadata": {
        "id": "wswCwBpNdWwi",
        "colab_type": "code",
        "colab": {
          "base_uri": "https://localhost:8080/",
          "height": 35
        },
        "outputId": "6e842afa-ab80-4051-cae1-b94bf212bd5d"
      },
      "source": [
        "s.peek()"
      ],
      "execution_count": 59,
      "outputs": [
        {
          "output_type": "execute_result",
          "data": {
            "text/plain": [
              "12"
            ]
          },
          "metadata": {
            "tags": []
          },
          "execution_count": 59
        }
      ]
    },
    {
      "cell_type": "code",
      "metadata": {
        "id": "it1msvmkeBOO",
        "colab_type": "code",
        "colab": {}
      },
      "source": [
        "s.pop()"
      ],
      "execution_count": 88,
      "outputs": []
    },
    {
      "cell_type": "code",
      "metadata": {
        "id": "o25NJ1jLoxt0",
        "colab_type": "code",
        "colab": {}
      },
      "source": [
        "def reverse_string(s):\n",
        "    st = stack()\n",
        "\n",
        "    for ch in s:\n",
        "        st.push(ch)\n",
        "\n",
        "    rstr = ''\n",
        "    while st.size()!=0:\n",
        "        rstr += st.pop()\n",
        "\n",
        "    return rstr"
      ],
      "execution_count": 116,
      "outputs": []
    },
    {
      "cell_type": "code",
      "metadata": {
        "id": "y5bgDqNZo0X8",
        "colab_type": "code",
        "colab": {
          "base_uri": "https://localhost:8080/",
          "height": 35
        },
        "outputId": "ddfee6e6-bd08-4ff1-a3bc-d96f357c92a7"
      },
      "source": [
        "print(reverse_string(\"We will conquere COVI-19\"))"
      ],
      "execution_count": 117,
      "outputs": [
        {
          "output_type": "stream",
          "text": [
            "91-IVOC ereuqnoc lliw eW\n"
          ],
          "name": "stdout"
        }
      ]
    },
    {
      "cell_type": "code",
      "metadata": {
        "id": "_kSNaXNT2PKc",
        "colab_type": "code",
        "colab": {}
      },
      "source": [
        "def is_match(ch1,ch2):\n",
        "    match= {\"}\":\"{\", \"]\":\"[\",\")\":\"(\"}\n",
        "    return  match[ch1]==ch2\n",
        "def is_balanced(char):\n",
        "  s=stack()\n",
        "  for c in char:\n",
        "    if c==\"{\" or c==\"[\" or c==\"(\":\n",
        "      s.push(c)\n",
        "    if c==\"}\"or c==\"]\"or c==\")\":\n",
        "      if s.size()==0:\n",
        "        return False\n",
        "      if not  is_match(c,s.pop()):\n",
        "        return False\n",
        "    else:\n",
        "      return True\n",
        "        \n",
        "    \n"
      ],
      "execution_count": 124,
      "outputs": []
    },
    {
      "cell_type": "code",
      "metadata": {
        "id": "o6bO-0El6X89",
        "colab_type": "code",
        "colab": {
          "base_uri": "https://localhost:8080/",
          "height": 121
        },
        "outputId": "7ab15085-1d94-40ec-80bc-e39ca8c876b0"
      },
      "source": [
        "    print(is_balanced(\"({a+b})\"))\n",
        "    print(is_balanced(\"))((a+b}{\"))\n",
        "    print(is_balanced(\"((a+b))\"))\n",
        "    print(is_balanced(\"((a+g))\"))\n",
        "    print(is_balanced(\"))\"))\n",
        "    print(is_balanced(\"[a+b]*(x+2y)*{gg+kk}\"))"
      ],
      "execution_count": 125,
      "outputs": [
        {
          "output_type": "stream",
          "text": [
            "True\n",
            "False\n",
            "True\n",
            "True\n",
            "False\n",
            "True\n"
          ],
          "name": "stdout"
        }
      ]
    }
  ]
}